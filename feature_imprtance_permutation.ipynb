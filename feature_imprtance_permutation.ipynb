{
 "cells": [
  {
   "cell_type": "markdown",
   "id": "3e1f50f7",
   "metadata": {},
   "source": [
    "# Estimate feature importance via \"feature permutation\"\n",
    "http://rasbt.github.io/mlxtend/user_guide/evaluate/feature_importance_permutation/?fbclid=IwAR12lcrbnld2FnNuePy749gXiQJf8WegfBtnX4z8rxcN0ur51eCezwDRSKY\n",
    "\n",
    "https://explained.ai/rf-importance/index.html\n",
    "\n",
    "Permutation importance is generally considered as a relatively efficient technique that works well in practice [1], while a drawback is that the importance of correlated features may be overestimated: \n",
    "Strobl, C., Boulesteix, A. L., Kneib, T., Augustin, T., & Zeileis, A. (2008). Conditional variable importance for random forests. BMC bioinformatics, 9(1), 307.\n",
    "\n"
   ]
  },
  {
   "cell_type": "markdown",
   "id": "9eb44646",
   "metadata": {},
   "source": [
    "### Example 1: feature importance classifiers"
   ]
  },
  {
   "cell_type": "code",
   "execution_count": 1,
   "id": "40f4ab8c",
   "metadata": {},
   "outputs": [],
   "source": [
    "import numpy as np\n",
    "import matplotlib.pyplot as plt\n",
    "from sklearn.svm import SVC\n",
    "from sklearn.model_selection import train_test_split\n",
    "from mlxtend.evaluate import feature_importance_permutation"
   ]
  },
  {
   "cell_type": "code",
   "execution_count": 6,
   "id": "987c7588",
   "metadata": {},
   "outputs": [],
   "source": [
    "# create a toy dataset\n",
    "from sklearn.datasets import make_classification\n",
    "from sklearn.ensemble import RandomForestClassifier\n",
    "\n",
    "#build a classification task using 3 informative features\n",
    "X, y = make_classification(n_samples=10000,\n",
    "                           n_features=10,\n",
    "                           n_informative=3,\n",
    "                           n_redundant=0,\n",
    "                           n_repeated=0,\n",
    "                           n_classes=2,\n",
    "                           random_state=0,\n",
    "                           shuffle=False)\n",
    "X_train, X_test, y_train, y_test = train_test_split(\n",
    "    X, y, test_size=0.3, random_state=1, stratify=y)\n"
   ]
  },
  {
   "cell_type": "code",
   "execution_count": 19,
   "id": "e218981a",
   "metadata": {},
   "outputs": [
    {
     "data": {
      "text/plain": [
       "array([[ 0.21106781,  0.94153676,  0.62881193, ..., -1.05194253,\n",
       "        -0.05200198,  0.18088636],\n",
       "       [ 0.91589812,  2.11957726, -2.61581974, ...,  1.48736613,\n",
       "        -0.90744161, -1.73375274],\n",
       "       [ 1.05892464,  1.27148841, -0.9294861 , ..., -1.7638768 ,\n",
       "        -0.88893658, -0.85067803],\n",
       "       ...,\n",
       "       [ 1.00569259,  0.51822566,  0.95426933, ..., -0.11622977,\n",
       "        -0.54457282,  1.09866276],\n",
       "       [-0.10709122, -0.77323249,  1.00817479, ...,  1.39155897,\n",
       "         0.60017511, -0.32279587],\n",
       "       [-1.57595014,  0.30585477, -1.13626844, ...,  1.20147274,\n",
       "         0.35166799, -0.62273047]])"
      ]
     },
     "execution_count": 19,
     "metadata": {},
     "output_type": "execute_result"
    }
   ],
   "source": [
    "type(X_train)\n",
    "X_train.shape\n",
    "X_train[:6,:6]\n",
    "X_train\n"
   ]
  },
  {
   "cell_type": "code",
   "execution_count": 35,
   "id": "b44af79b",
   "metadata": {},
   "outputs": [
    {
     "name": "stdout",
     "output_type": "stream",
     "text": [
      "training accuracy:  100.0\n",
      "test accuracy:  95.06666666666666\n",
      "[0.283357   0.30846795 0.24204291 0.02229767 0.02364941 0.02390578\n",
      " 0.02501543 0.0234225  0.02370816 0.0241332 ]\n"
     ]
    }
   ],
   "source": [
    "forest_mdl = RandomForestClassifier(n_estimators=250, random_state=0)\n",
    "forest_mdl.fit(X_train, y_train)\n",
    "\n",
    "print(\"training accuracy: \", np.mean(forest_mdl.predict(X_train) == y_train) * 100)\n",
    "print(\"test accuracy: \", np.mean(forest_mdl.predict(X_test) == y_test) * 100)\n",
    "importance_vals = forest_mdl.feature_importances_\n",
    "print(importance_vals)"
   ]
  },
  {
   "cell_type": "code",
   "execution_count": 63,
   "id": "193fced9",
   "metadata": {},
   "outputs": [
    {
     "data": {
      "text/plain": [
       "(0.0, 0.4)"
      ]
     },
     "execution_count": 63,
     "metadata": {},
     "output_type": "execute_result"
    },
    {
     "data": {
      "image/png": "[encoded data removed]",
      "text/plain": [
       "<Figure size 432x288 with 1 Axes>"
      ]
     },
     "metadata": {
      "needs_background": "light"
     },
     "output_type": "display_data"
    }
   ],
   "source": [
    "### Let's visualize the feature importance values from the random forest including a measure of \n",
    "#the \"mean impurity decrease\" variability (here: standard deviation):\n",
    "\n",
    "std = np.std([tree.feature_importances_ for tree in forest_mdl.estimators_], axis=0)\n",
    "[tree.feature_importances_ for tree in forest_mdl.estimators_][0].shape # (10,)\n",
    "indices = np.argsort(importance_vals)[::-1]  #argsort sorts indices increasingly, we wanted decreasing\n",
    "\n",
    "# Plot the feature importances of the forest_mdl\n",
    "plt.figure()\n",
    "plt.title(\"Random forest feature importance\")\n",
    "plt.bar(range(X.shape[1]), importance_vals[indices], \n",
    "       yerr=std[indices], align='center')\n",
    "plt.xticks(range(X.shape[1]), indices)\n",
    "plt.xlim([-3, X.shape[1]])\n",
    "plt.ylim([0, 0.4])"
   ]
  },
  {
   "cell_type": "code",
   "execution_count": 54,
   "id": "9982dc3f",
   "metadata": {},
   "outputs": [
    {
     "data": {
      "text/plain": [
       "array([0.09605277, 0.03822192, 0.08644115, 0.0063216 , 0.00645192,\n",
       "       0.00638371, 0.00712055, 0.00644667, 0.00666152, 0.00646481])"
      ]
     },
     "execution_count": 54,
     "metadata": {},
     "output_type": "execute_result"
    }
   ],
   "source": [
    "std"
   ]
  },
  {
   "cell_type": "markdown",
   "id": "fae90885",
   "metadata": {},
   "source": [
    "### Let's compute the feature importance via the permutation importance approach."
   ]
  },
  {
   "cell_type": "code",
   "execution_count": 64,
   "id": "95c4e3f8",
   "metadata": {},
   "outputs": [
    {
     "data": {
      "text/plain": [
       "array([ 0.26833333,  0.26733333,  0.261     , -0.002     , -0.00033333,\n",
       "        0.00066667,  0.00233333,  0.00066667,  0.00066667, -0.00233333])"
      ]
     },
     "execution_count": 64,
     "metadata": {},
     "output_type": "execute_result"
    }
   ],
   "source": [
    "imp_vals, _ = feature_importance_permutation(\n",
    "    predict_method=forest_mdl.predict, \n",
    "    X=X_test,\n",
    "    y=y_test,\n",
    "    metric='accuracy',\n",
    "    num_rounds=1,\n",
    "    seed=1)\n",
    "\n",
    "imp_vals"
   ]
  },
  {
   "cell_type": "code",
   "execution_count": 66,
   "id": "f679793d",
   "metadata": {},
   "outputs": [
    {
     "data": {
      "image/png": "[encoded data removed]",
      "text/plain": [
       "<Figure size 432x288 with 1 Axes>"
      ]
     },
     "metadata": {
      "needs_background": "light"
     },
     "output_type": "display_data"
    }
   ],
   "source": [
    "indices = np.argsort(imp_vals)[::-1]\n",
    "plt.figure()\n",
    "plt.title(\"Random Forest feature importance via permutation importance\")\n",
    "plt.bar(range(X.shape[1]), imp_vals[indices])\n",
    "plt.xticks(range(X.shape[1]), indices)\n",
    "plt.xlim([-1, X.shape[1]])\n",
    "plt.ylim([0, 0.4])\n",
    "plt.show()"
   ]
  },
  {
   "cell_type": "markdown",
   "id": "7b9df4b0",
   "metadata": {},
   "source": [
    "Previously, it was mentioned that the permutation is repeated multiple times if num_rounds > 1. In this case, the second array returned by the feature_importance_permutation contains the importance values for these individual runs (the array has shape [num_features, num_rounds), which we can use to compute some sort of variability between these runs.\n",
    "\n"
   ]
  },
  {
   "cell_type": "code",
   "execution_count": 69,
   "id": "28d3f345",
   "metadata": {},
   "outputs": [
    {
     "data": {
      "image/png": "[encoded data removed]",
      "text/plain": [
       "<Figure size 432x288 with 1 Axes>"
      ]
     },
     "metadata": {
      "needs_background": "light"
     },
     "output_type": "display_data"
    }
   ],
   "source": [
    "imp_vals, imp_all = feature_importance_permutation(\n",
    "    predict_method=forest_mdl.predict, \n",
    "    X=X_test,\n",
    "    y=y_test,\n",
    "    metric='accuracy',\n",
    "    num_rounds=10,\n",
    "    seed=1)\n",
    "\n",
    "\n",
    "std = np.std(imp_all, axis=1) #unlike above axis=1\n",
    "indices = np.argsort(imp_vals)[::-1]\n",
    "\n",
    "plt.figure()\n",
    "plt.title(\"Random Forest feature importance via permutation importance w. std. dev.\")\n",
    "plt.bar(range(X.shape[1]), imp_vals[indices],\n",
    "        yerr=std[indices])\n",
    "plt.xticks(range(X.shape[1]), indices)\n",
    "plt.xlim([-1, X.shape[1]])\n",
    "plt.ylim([0,0.4])\n",
    "plt.show()"
   ]
  },
  {
   "cell_type": "markdown",
   "id": "f614183a",
   "metadata": {},
   "source": [
    "### Example 2: feature importance regressors"
   ]
  },
  {
   "cell_type": "code",
   "execution_count": 70,
   "id": "70690930",
   "metadata": {},
   "outputs": [],
   "source": [
    "import numpy as np\n",
    "import matplotlib.pyplot as plt\n",
    "from mlxtend.evaluate import feature_importance_permutation\n",
    "from sklearn.model_selection import train_test_split\n",
    "from sklearn.datasets import make_regression\n",
    "from sklearn.svm import SVR\n",
    "\n",
    "\n",
    "X, y = make_regression(n_samples=1000,\n",
    "                       n_features=5,\n",
    "                       n_informative=2,\n",
    "                       n_targets=1,\n",
    "                       random_state=123,\n",
    "                       shuffle=False)"
   ]
  },
  {
   "cell_type": "code",
   "execution_count": 81,
   "id": "040762bc",
   "metadata": {
    "scrolled": true
   },
   "outputs": [
    {
     "name": "stdout",
     "output_type": "stream",
     "text": [
      "(1000, 5)\n"
     ]
    },
    {
     "data": {
      "text/plain": [
       "array([[-1.0856306 ,  0.99734545,  0.2829785 , -1.50629471, -0.57860025],\n",
       "       [ 1.65143654, -2.42667924, -0.42891263,  1.26593626, -0.8667404 ],\n",
       "       [-0.67888615, -0.09470897,  1.49138963, -0.638902  , -0.44398196],\n",
       "       [-0.43435128,  2.20593008,  2.18678609,  1.0040539 ,  0.3861864 ],\n",
       "       [ 0.73736858,  1.49073203, -0.93583387,  1.17582904, -1.25388067],\n",
       "       [-0.6377515 ,  0.9071052 , -1.4286807 , -0.14006872, -0.8617549 ]])"
      ]
     },
     "execution_count": 81,
     "metadata": {},
     "output_type": "execute_result"
    }
   ],
   "source": [
    "print(X.shape)\n",
    "X[:6,:100]"
   ]
  },
  {
   "cell_type": "code",
   "execution_count": 79,
   "id": "41e74225",
   "metadata": {},
   "outputs": [
    {
     "data": {
      "text/plain": [
       "array([  -8.05137143,  -57.51434696,   89.4139685 ,  139.75225425,\n",
       "          1.43708679, -175.50966365,  -13.20283679, -158.17859798,\n",
       "        132.30871463])"
      ]
     },
     "execution_count": 79,
     "metadata": {},
     "output_type": "execute_result"
    }
   ],
   "source": [
    "y[1:10]"
   ]
  },
  {
   "cell_type": "code",
   "execution_count": 82,
   "id": "94c244f4",
   "metadata": {},
   "outputs": [
    {
     "data": {
      "text/plain": [
       "array([ 0.43309137,  0.22058866,  0.00148447,  0.01613953, -0.00529505])"
      ]
     },
     "execution_count": 82,
     "metadata": {},
     "output_type": "execute_result"
    }
   ],
   "source": [
    "X_train, X_test, y_train, y_test = train_test_split(\n",
    "    X, y, test_size=0.3, random_state=123)    \n",
    "\n",
    "svm = SVR(kernel='rbf')\n",
    "svm.fit(X_train, y_train)\n",
    "\n",
    "imp_vals, _ = feature_importance_permutation(\n",
    "    predict_method=svm.predict, \n",
    "    X=X_test,\n",
    "    y=y_test,\n",
    "    metric='r2',\n",
    "    num_rounds=1,\n",
    "    seed=1)\n",
    "\n",
    "imp_vals"
   ]
  },
  {
   "cell_type": "code",
   "execution_count": 83,
   "id": "0f3e7f4a",
   "metadata": {},
   "outputs": [
    {
     "data": {
      "image/png": "[encoded data removed]",
      "text/plain": [
       "<Figure size 432x288 with 1 Axes>"
      ]
     },
     "metadata": {
      "needs_background": "light"
     },
     "output_type": "display_data"
    }
   ],
   "source": [
    "plt.figure()\n",
    "plt.bar(range(X.shape[1]), imp_vals)\n",
    "plt.xticks(range(X.shape[1]))\n",
    "plt.xlim([-1, X.shape[1]])\n",
    "plt.ylim([0, 0.5])\n",
    "plt.show()"
   ]
  },
  {
   "cell_type": "markdown",
   "id": "ff4169bd",
   "metadata": {},
   "source": [
    "### Example 3: Feature importance with one-hot-encoded features"
   ]
  },
  {
   "cell_type": "markdown",
   "id": "b0a4aba5",
   "metadata": {},
   "source": [
    "Upon one-hot encoding, a feature variable with 10 distinct categories will be split into 10 new feature columns (or 9, if you drop a redundant column). If we want to treat each new feature column as an individual feature variable,\n",
    "we can use the feature_importance_permutation as usual."
   ]
  },
  {
   "cell_type": "code",
   "execution_count": 7,
   "id": "c4a82d2f",
   "metadata": {},
   "outputs": [
    {
     "data": {
      "text/html": [
       "<div>\n",
       "<style scoped>\n",
       "    .dataframe tbody tr th:only-of-type {\n",
       "        vertical-align: middle;\n",
       "    }\n",
       "\n",
       "    .dataframe tbody tr th {\n",
       "        vertical-align: top;\n",
       "    }\n",
       "\n",
       "    .dataframe thead th {\n",
       "        text-align: right;\n",
       "    }\n",
       "</style>\n",
       "<table border=\"1\" class=\"dataframe\">\n",
       "  <thead>\n",
       "    <tr style=\"text-align: right;\">\n",
       "      <th></th>\n",
       "      <th>categorical</th>\n",
       "      <th>measurement1</th>\n",
       "      <th>measurement2</th>\n",
       "      <th>label</th>\n",
       "      <th>measurement3</th>\n",
       "    </tr>\n",
       "  </thead>\n",
       "  <tbody>\n",
       "    <tr>\n",
       "      <th>0</th>\n",
       "      <td>F</td>\n",
       "      <td>1.428571</td>\n",
       "      <td>2.721313</td>\n",
       "      <td>0</td>\n",
       "      <td>2.089</td>\n",
       "    </tr>\n",
       "    <tr>\n",
       "      <th>1</th>\n",
       "      <td>R</td>\n",
       "      <td>0.685939</td>\n",
       "      <td>0.982976</td>\n",
       "      <td>0</td>\n",
       "      <td>0.637</td>\n",
       "    </tr>\n",
       "    <tr>\n",
       "      <th>2</th>\n",
       "      <td>P</td>\n",
       "      <td>1.055817</td>\n",
       "      <td>0.624210</td>\n",
       "      <td>0</td>\n",
       "      <td>0.226</td>\n",
       "    </tr>\n",
       "    <tr>\n",
       "      <th>3</th>\n",
       "      <td>S</td>\n",
       "      <td>0.995956</td>\n",
       "      <td>0.321101</td>\n",
       "      <td>0</td>\n",
       "      <td>0.138</td>\n",
       "    </tr>\n",
       "    <tr>\n",
       "      <th>4</th>\n",
       "      <td>R</td>\n",
       "      <td>1.376773</td>\n",
       "      <td>1.578309</td>\n",
       "      <td>0</td>\n",
       "      <td>0.478</td>\n",
       "    </tr>\n",
       "  </tbody>\n",
       "</table>\n",
       "</div>"
      ],
      "text/plain": [
       "  categorical  measurement1  measurement2  label  measurement3\n",
       "0           F      1.428571      2.721313      0         2.089\n",
       "1           R      0.685939      0.982976      0         0.637\n",
       "2           P      1.055817      0.624210      0         0.226\n",
       "3           S      0.995956      0.321101      0         0.138\n",
       "4           R      1.376773      1.578309      0         0.478"
      ]
     },
     "execution_count": 7,
     "metadata": {},
     "output_type": "execute_result"
    }
   ],
   "source": [
    "import pandas as pd\n",
    "\n",
    "df_data = pd.read_csv('onehot_numeric_mixed_data.csv')\n",
    "df_data.head()"
   ]
  },
  {
   "cell_type": "code",
   "execution_count": 8,
   "id": "63bcc33f",
   "metadata": {},
   "outputs": [],
   "source": [
    "df_X = df_data[['measurement1', 'measurement2', 'measurement3', 'categorical']]\n",
    "df_y = df_data['label']"
   ]
  },
  {
   "cell_type": "code",
   "execution_count": 32,
   "id": "2be362b9",
   "metadata": {
    "scrolled": true
   },
   "outputs": [
    {
     "name": "stdout",
     "output_type": "stream",
     "text": [
      "   measurement1  measurement2  measurement3 categorical\n",
      "0      1.428571      2.721313         2.089           F\n",
      "1      0.685939      0.982976         0.637           R\n",
      "2      1.055817      0.624210         0.226           P\n"
     ]
    },
    {
     "data": {
      "text/plain": [
       "0    6.238884\n",
       "1    2.305915\n",
       "2    1.906027\n",
       "dtype: float64"
      ]
     },
     "execution_count": 32,
     "metadata": {},
     "output_type": "execute_result"
    }
   ],
   "source": [
    "df_y\n",
    "df_X\n",
    "print(df_X.iloc[:3,:])\n",
    "np.sum(df_X.iloc[:3,:3], axis=1)"
   ]
  },
  {
   "cell_type": "code",
   "execution_count": 10,
   "id": "bd59cd05",
   "metadata": {},
   "outputs": [],
   "source": [
    "df_X_train, df_X_test, df_y_train, df_y_test = train_test_split(\n",
    "     df_X, df_y, test_size=0.33, random_state=42, stratify=df_y)"
   ]
  },
  {
   "cell_type": "code",
   "execution_count": 6,
   "id": "dea9d3db",
   "metadata": {},
   "outputs": [],
   "source": [
    "from sklearn.preprocessing import OneHotEncoder\n",
    "import numpy as np\n",
    "\n",
    "\n",
    "ohe = OneHotEncoder(drop='first')\n",
    "ohe.fit(df_X_train[['categorical']])\n",
    "\n",
    "df_X_train_ohe = df_X_train.drop(columns=['categorical'])\n",
    "df_X_test_ohe = df_X_test.drop(columns=['categorical'])\n",
    "\n",
    "ohe_train = np.asarray(ohe.transform(df_X_train[['categorical']]).todense())\n",
    "ohe_test = np.asarray(ohe.transform(df_X_test[['categorical']]).todense())\n",
    "\n",
    "X_train_ohe = np.hstack((df_X_train_ohe.values, ohe_train))\n",
    "X_test_ohe = np.hstack((df_X_test_ohe.values, ohe_test))"
   ]
  },
  {
   "cell_type": "code",
   "execution_count": 31,
   "id": "6b993ea0",
   "metadata": {},
   "outputs": [
    {
     "data": {
      "text/plain": [
       "array([28., 49., 27., 18., 19., 26., 41., 23.,  9., 20., 15., 23., 57.,\n",
       "       39., 22., 23., 15., 32.])"
      ]
     },
     "execution_count": 31,
     "metadata": {},
     "output_type": "execute_result"
    }
   ],
   "source": [
    "np.sum(ohe_train,axis=0)"
   ]
  },
  {
   "cell_type": "code",
   "execution_count": 38,
   "id": "c883d9db",
   "metadata": {},
   "outputs": [
    {
     "name": "stdout",
     "output_type": "stream",
     "text": [
      "(490, 4)\n",
      "(490, 18)\n",
      "(490, 3)\n",
      "(490, 21)\n",
      "[[0.65747208 0.95105388 0.36       0.         0.         0.\n",
      "  0.         0.         0.         0.         0.         0.\n",
      "  0.         0.         0.         1.         0.         0.\n",
      "  0.         0.         0.        ]\n",
      " [1.17503636 1.01094494 0.653      0.         0.         0.\n",
      "  0.         0.         0.         0.         0.         0.\n",
      "  0.         0.         0.         0.         1.         0.\n",
      "  0.         0.         0.        ]\n",
      " [1.25516647 0.67575824 0.176      0.         0.         0.\n",
      "  0.         0.         0.         0.         0.         0.\n",
      "  0.         0.         1.         0.         0.         0.\n",
      "  0.         0.         0.        ]]\n"
     ]
    }
   ],
   "source": [
    "print(df_X_train.shape)\n",
    "print(ohe_train.shape)\n",
    "print(df_X_train_ohe.shape)\n",
    "print(X_train_ohe.shape)\n",
    "print(X_train_ohe[:3,:])"
   ]
  },
  {
   "cell_type": "code",
   "execution_count": 44,
   "id": "03728cba",
   "metadata": {},
   "outputs": [],
   "source": [
    "from sklearn.neural_network import MLPClassifier\n",
    "from sklearn.preprocessing import StandardScaler\n",
    "from sklearn.pipeline import make_pipeline\n",
    "from sklearn.model_selection import GridSearchCV\n",
    "\n",
    "\n",
    "pipe = make_pipeline(StandardScaler(),\n",
    "                     MLPClassifier(max_iter=10000, random_state=123))\n",
    "\n",
    "params = {\n",
    "    'mlpclassifier__hidden_layer_sizes': [(30, 20, 10), \n",
    "                                          (20, 10), \n",
    "                                          (20,),\n",
    "                                          (10,)],\n",
    "    'mlpclassifier__activation': ['tanh', 'relu'],\n",
    "    'mlpclassifier__solver': ['sgd'],\n",
    "    'mlpclassifier__alpha': [0.0001],\n",
    "    'mlpclassifier__learning_rate': ['adaptive'],\n",
    "}\n",
    "\n",
    "gs = GridSearchCV(estimator=pipe, \n",
    "                  param_grid=params, \n",
    "                  scoring='accuracy', \n",
    "                  refit=True,\n",
    "                  n_jobs=-1,\n",
    "                  cv=10)\n",
    "\n",
    "gs = gs.fit(X_train_ohe, df_y_train.values)\n",
    "model = gs.best_estimator_\n"
   ]
  },
  {
   "cell_type": "code",
   "execution_count": 53,
   "id": "56b9d20e",
   "metadata": {},
   "outputs": [
    {
     "data": {
      "text/html": [
       "<div>\n",
       "<style scoped>\n",
       "    .dataframe tbody tr th:only-of-type {\n",
       "        vertical-align: middle;\n",
       "    }\n",
       "\n",
       "    .dataframe tbody tr th {\n",
       "        vertical-align: top;\n",
       "    }\n",
       "\n",
       "    .dataframe thead th {\n",
       "        text-align: right;\n",
       "    }\n",
       "</style>\n",
       "<table border=\"1\" class=\"dataframe\">\n",
       "  <thead>\n",
       "    <tr style=\"text-align: right;\">\n",
       "      <th></th>\n",
       "      <th>measurement1</th>\n",
       "      <th>measurement2</th>\n",
       "      <th>measurement3</th>\n",
       "      <th>categorical</th>\n",
       "    </tr>\n",
       "  </thead>\n",
       "  <tbody>\n",
       "    <tr>\n",
       "      <th>32</th>\n",
       "      <td>1.601440</td>\n",
       "      <td>0.642528</td>\n",
       "      <td>0.746</td>\n",
       "      <td>T</td>\n",
       "    </tr>\n",
       "    <tr>\n",
       "      <th>444</th>\n",
       "      <td>1.215038</td>\n",
       "      <td>2.223516</td>\n",
       "      <td>0.977</td>\n",
       "      <td>F</td>\n",
       "    </tr>\n",
       "    <tr>\n",
       "      <th>671</th>\n",
       "      <td>0.584093</td>\n",
       "      <td>0.854355</td>\n",
       "      <td>0.000</td>\n",
       "      <td>T</td>\n",
       "    </tr>\n",
       "    <tr>\n",
       "      <th>585</th>\n",
       "      <td>0.455933</td>\n",
       "      <td>1.280567</td>\n",
       "      <td>0.561</td>\n",
       "      <td>D</td>\n",
       "    </tr>\n",
       "    <tr>\n",
       "      <th>241</th>\n",
       "      <td>1.094233</td>\n",
       "      <td>0.683300</td>\n",
       "      <td>0.663</td>\n",
       "      <td>D</td>\n",
       "    </tr>\n",
       "    <tr>\n",
       "      <th>...</th>\n",
       "      <td>...</td>\n",
       "      <td>...</td>\n",
       "      <td>...</td>\n",
       "      <td>...</td>\n",
       "    </tr>\n",
       "    <tr>\n",
       "      <th>178</th>\n",
       "      <td>1.055087</td>\n",
       "      <td>0.636316</td>\n",
       "      <td>0.793</td>\n",
       "      <td>R</td>\n",
       "    </tr>\n",
       "    <tr>\n",
       "      <th>121</th>\n",
       "      <td>0.868706</td>\n",
       "      <td>1.091644</td>\n",
       "      <td>0.000</td>\n",
       "      <td>N</td>\n",
       "    </tr>\n",
       "    <tr>\n",
       "      <th>188</th>\n",
       "      <td>0.587939</td>\n",
       "      <td>0.649198</td>\n",
       "      <td>0.033</td>\n",
       "      <td>Y</td>\n",
       "    </tr>\n",
       "    <tr>\n",
       "      <th>269</th>\n",
       "      <td>0.712554</td>\n",
       "      <td>1.145567</td>\n",
       "      <td>0.105</td>\n",
       "      <td>E</td>\n",
       "    </tr>\n",
       "    <tr>\n",
       "      <th>706</th>\n",
       "      <td>0.907123</td>\n",
       "      <td>1.054256</td>\n",
       "      <td>0.168</td>\n",
       "      <td>E</td>\n",
       "    </tr>\n",
       "  </tbody>\n",
       "</table>\n",
       "<p>242 rows × 4 columns</p>\n",
       "</div>"
      ],
      "text/plain": [
       "     measurement1  measurement2  measurement3 categorical\n",
       "32       1.601440      0.642528         0.746           T\n",
       "444      1.215038      2.223516         0.977           F\n",
       "671      0.584093      0.854355         0.000           T\n",
       "585      0.455933      1.280567         0.561           D\n",
       "241      1.094233      0.683300         0.663           D\n",
       "..            ...           ...           ...         ...\n",
       "178      1.055087      0.636316         0.793           R\n",
       "121      0.868706      1.091644         0.000           N\n",
       "188      0.587939      0.649198         0.033           Y\n",
       "269      0.712554      1.145567         0.105           E\n",
       "706      0.907123      1.054256         0.168           E\n",
       "\n",
       "[242 rows x 4 columns]"
      ]
     },
     "execution_count": 53,
     "metadata": {},
     "output_type": "execute_result"
    }
   ],
   "source": [
    "df_X_test\n",
    "\n"
   ]
  },
  {
   "cell_type": "markdown",
   "id": "79028a5d",
   "metadata": {},
   "source": [
    "Each one-hot encoded feature is treated as an individiual variable."
   ]
  },
  {
   "cell_type": "code",
   "execution_count": 47,
   "id": "a973df20",
   "metadata": {},
   "outputs": [
    {
     "data": {
      "image/png": "[encoded data removed]",
      "text/plain": [
       "<Figure size 432x288 with 1 Axes>"
      ]
     },
     "metadata": {
      "needs_background": "light"
     },
     "output_type": "display_data"
    }
   ],
   "source": [
    "from mlxtend.evaluate import feature_importance_permutation\n",
    "\n",
    "imp_vals, imp_all = feature_importance_permutation(\n",
    "    predict_method=model.predict, \n",
    "    X=X_test_ohe,\n",
    "    y=df_y_test.values,\n",
    "    metric='accuracy',\n",
    "    num_rounds=50,\n",
    "    seed=1)\n",
    "feat_names_with_ohe = ['measurement1', 'measurement2', 'measurement3'] \\\n",
    "    + [f'categorical_ohe_{i}' for i in range(2, 20)]\n",
    "%matplotlib inline\n",
    "import matplotlib.pyplot as plt\n",
    "\n",
    "\n",
    "std = np.std(imp_all, axis=1)\n",
    "indices = np.argsort(imp_vals)[::-1]\n",
    "\n",
    "plt.figure()\n",
    "#plt.title(\"Feature importance via permutation importance w. std. dev.\")\n",
    "plt.bar(range(len(feat_names_with_ohe)), imp_vals[indices],\n",
    "        yerr=std[indices])\n",
    "plt.xticks(range(len(feat_names_with_ohe)),\n",
    "           np.array(feat_names_with_ohe)[indices], rotation=90)\n",
    "plt.xlim([-1, len(feat_names_with_ohe)])\n",
    "plt.show()"
   ]
  },
  {
   "cell_type": "code",
   "execution_count": 55,
   "id": "8a47ed5a",
   "metadata": {},
   "outputs": [
    {
     "data": {
      "text/plain": [
       "(242, 21)"
      ]
     },
     "execution_count": 55,
     "metadata": {},
     "output_type": "execute_result"
    }
   ],
   "source": [
    "X_test_ohe.shape"
   ]
  },
  {
   "cell_type": "markdown",
   "id": "aeb62efe",
   "metadata": {},
   "source": [
    "However, notice that if we have a lot of categorical values, the feature importance of the individual binary features (after one hot encoding) are now hard to interpret. In certain cases, it would be desireable to treat the one-hot encoded binary features as a single variable in feature permutation importance evaluation. We can achieve this using feature groups.\n",
    "\n",
    "In the example below, all the one-hot encoded variables are treated as a feature group. This means, they are are all shuffled and analyzed as a single feature inside the feature permutation importance analysis."
   ]
  },
  {
   "cell_type": "code",
   "execution_count": 57,
   "id": "c1105500",
   "metadata": {},
   "outputs": [],
   "source": [
    "feature_groups = [0, 1, 2, range(3, 21)]\n",
    "\n",
    "imp_vals, imp_all = feature_importance_permutation(\n",
    "    predict_method=model.predict, \n",
    "    X=X_test_ohe,\n",
    "    y=df_y_test.values,\n",
    "    metric='accuracy',\n",
    "    num_rounds=50,\n",
    "    feature_groups=feature_groups,\n",
    "    seed=1)"
   ]
  },
  {
   "cell_type": "code",
   "execution_count": 58,
   "id": "1bfeafa7",
   "metadata": {},
   "outputs": [
    {
     "data": {
      "text/plain": [
       "[0, 1, 2, range(3, 21)]"
      ]
     },
     "execution_count": 58,
     "metadata": {},
     "output_type": "execute_result"
    }
   ],
   "source": [
    "feature_groups"
   ]
  },
  {
   "cell_type": "code",
   "execution_count": 100,
   "id": "b7f5b846",
   "metadata": {},
   "outputs": [
    {
     "data": {
      "image/png": "[encoded data removed]",
      "text/plain": [
       "<Figure size 432x288 with 1 Axes>"
      ]
     },
     "metadata": {
      "needs_background": "light"
     },
     "output_type": "display_data"
    }
   ],
   "source": [
    "feature_names = ['measurement1', 'measurement2', 'measurement3', 'categorical']\n",
    "\n",
    "std = np.std(imp_all, axis=1)\n",
    "indices = np.argsort(imp_vals)[::-1]\n",
    "\n",
    "plt.figure()\n",
    "plt.bar(range(len(feature_names)), imp_vals[indices],\n",
    "        yerr=std[indices])\n",
    "plt.xticks(range(len(feature_names)),\n",
    "           np.array(feature_names)[indices], rotation=90)\n",
    "plt.xlim([-1, len(feature_names)])\n",
    "plt.show()"
   ]
  },
  {
   "cell_type": "code",
   "execution_count": null,
   "id": "bae32d3f",
   "metadata": {},
   "outputs": [],
   "source": []
  }
 ],
 "metadata": {
  "kernelspec": {
   "display_name": "Python 3 (ipykernel)",
   "language": "python",
   "name": "python3"
  },
  "language_info": {
   "codemirror_mode": {
    "name": "ipython",
    "version": 3
   },
   "file_extension": ".py",
   "mimetype": "text/x-python",
   "name": "python",
   "nbconvert_exporter": "python",
   "pygments_lexer": "ipython3",
   "version": "3.10.4"
  }
 },
 "nbformat": 4,
 "nbformat_minor": 5
}
