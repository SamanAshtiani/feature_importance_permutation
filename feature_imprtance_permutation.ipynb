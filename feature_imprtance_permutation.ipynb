{
 "cells": [
  {
   "cell_type": "markdown",
   "id": "b6f42fa4",
   "metadata": {},
   "source": [
    "# Estimate feature importance via \"feature permutation\"\n",
    "http://rasbt.github.io/mlxtend/user_guide/evaluate/feature_importance_permutation/?fbclid=IwAR12lcrbnld2FnNuePy749gXiQJf8WegfBtnX4z8rxcN0ur51eCezwDRSKY\n",
    "\n",
    "https://explained.ai/rf-importance/index.html\n",
    "\n",
    "Permutation importance is generally considered as a relatively efficient technique that works well in practice [1], while a drawback is that the importance of correlated features may be overestimated: \n",
    "Strobl, C., Boulesteix, A. L., Kneib, T., Augustin, T., & Zeileis, A. (2008). Conditional variable importance for random forests. BMC bioinformatics, 9(1), 307.\n",
    "\n"
   ]
  },
  {
   "cell_type": "markdown",
   "id": "6fc4a1dd",
   "metadata": {},
   "source": [
    "### Example 1: feature importance classifiers"
   ]
  },
  {
   "cell_type": "code",
   "execution_count": 42,
   "id": "0c369edd",
   "metadata": {},
   "outputs": [],
   "source": [
    "import numpy as np\n",
    "import matplotlib.pyplot as plt\n",
    "from sklearn.svm import SVC\n",
    "from sklearn.model_selection import train_test_split\n",
    "from mlxtend.evaluate import feature_importance_permutation"
   ]
  },
  {
   "cell_type": "code",
   "execution_count": 6,
   "id": "999a3471",
   "metadata": {},
   "outputs": [],
   "source": [
    "# create a toy dataset\n",
    "from sklearn.datasets import make_classification\n",
    "from sklearn.ensemble import RandomForestClassifier\n",
    "\n",
    "#build a classification task using 3 informative features\n",
    "X, y = make_classification(n_samples=10000,\n",
    "                           n_features=10,\n",
    "                           n_informative=3,\n",
    "                           n_redundant=0,\n",
    "                           n_repeated=0,\n",
    "                           n_classes=2,\n",
    "                           random_state=0,\n",
    "                           shuffle=False)\n",
    "X_train, X_test, y_train, y_test = train_test_split(\n",
    "    X, y, test_size=0.3, random_state=1, stratify=y)\n"
   ]
  },
  {
   "cell_type": "code",
   "execution_count": 19,
   "id": "b00898f9",
   "metadata": {},
   "outputs": [
    {
     "data": {
      "text/plain": [
       "array([[ 0.21106781,  0.94153676,  0.62881193, ..., -1.05194253,\n",
       "        -0.05200198,  0.18088636],\n",
       "       [ 0.91589812,  2.11957726, -2.61581974, ...,  1.48736613,\n",
       "        -0.90744161, -1.73375274],\n",
       "       [ 1.05892464,  1.27148841, -0.9294861 , ..., -1.7638768 ,\n",
       "        -0.88893658, -0.85067803],\n",
       "       ...,\n",
       "       [ 1.00569259,  0.51822566,  0.95426933, ..., -0.11622977,\n",
       "        -0.54457282,  1.09866276],\n",
       "       [-0.10709122, -0.77323249,  1.00817479, ...,  1.39155897,\n",
       "         0.60017511, -0.32279587],\n",
       "       [-1.57595014,  0.30585477, -1.13626844, ...,  1.20147274,\n",
       "         0.35166799, -0.62273047]])"
      ]
     },
     "execution_count": 19,
     "metadata": {},
     "output_type": "execute_result"
    }
   ],
   "source": [
    "type(X_train)\n",
    "X_train.shape\n",
    "X_train[:6,:6]\n",
    "X_train\n"
   ]
  },
  {
   "cell_type": "code",
   "execution_count": 35,
   "id": "910f684d",
   "metadata": {},
   "outputs": [
    {
     "name": "stdout",
     "output_type": "stream",
     "text": [
      "training accuracy:  100.0\n",
      "test accuracy:  95.06666666666666\n",
      "[0.283357   0.30846795 0.24204291 0.02229767 0.02364941 0.02390578\n",
      " 0.02501543 0.0234225  0.02370816 0.0241332 ]\n"
     ]
    }
   ],
   "source": [
    "forest_mdl = RandomForestClassifier(n_estimators=250, random_state=0)\n",
    "forest_mdl.fit(X_train, y_train)\n",
    "\n",
    "print(\"training accuracy: \", np.mean(forest_mdl.predict(X_train) == y_train) * 100)\n",
    "print(\"test accuracy: \", np.mean(forest_mdl.predict(X_test) == y_test) * 100)\n",
    "importance_vals = forest_mdl.feature_importances_\n",
    "print(importance_vals)"
   ]
  },
  {
   "cell_type": "code",
   "execution_count": 63,
   "id": "2a41a4bc",
   "metadata": {},
   "outputs": [
    {
     "data": {
      "text/plain": [
       "(0.0, 0.4)"
      ]
     },
     "execution_count": 63,
     "metadata": {},
     "output_type": "execute_result"
    },
    {
     "data": {
      "image/png": "[encoded data removed]",
      "text/plain": [
       "<Figure size 432x288 with 1 Axes>"
      ]
     },
     "metadata": {
      "needs_background": "light"
     },
     "output_type": "display_data"
    }
   ],
   "source": [
    "### Let's visualize the feature importance values from the random forest including a measure of \n",
    "#the \"mean impurity decrease\" variability (here: standard deviation):\n",
    "\n",
    "std = np.std([tree.feature_importances_ for tree in forest_mdl.estimators_], axis=0)\n",
    "[tree.feature_importances_ for tree in forest_mdl.estimators_][0].shape # (10,)\n",
    "indices = np.argsort(importance_vals)[::-1]  #argsort sorts indices increasingly, we wanted decreasing\n",
    "\n",
    "# Plot the feature importances of the forest_mdl\n",
    "plt.figure()\n",
    "plt.title(\"Random forest feature importance\")\n",
    "plt.bar(range(X.shape[1]), importance_vals[indices], \n",
    "       yerr=std[indices], align='center')\n",
    "plt.xticks(range(X.shape[1]), indices)\n",
    "plt.xlim([-3, X.shape[1]])\n",
    "plt.ylim([0, 0.4])"
   ]
  },
  {
   "cell_type": "code",
   "execution_count": 54,
   "id": "6de0ae4c",
   "metadata": {},
   "outputs": [
    {
     "data": {
      "text/plain": [
       "array([0.09605277, 0.03822192, 0.08644115, 0.0063216 , 0.00645192,\n",
       "       0.00638371, 0.00712055, 0.00644667, 0.00666152, 0.00646481])"
      ]
     },
     "execution_count": 54,
     "metadata": {},
     "output_type": "execute_result"
    }
   ],
   "source": [
    "std"
   ]
  },
  {
   "cell_type": "markdown",
   "id": "8dcbffea",
   "metadata": {},
   "source": [
    "### Let's compute the feature importance via the permutation importance approach."
   ]
  },
  {
   "cell_type": "code",
   "execution_count": 64,
   "id": "b8ad459c",
   "metadata": {},
   "outputs": [
    {
     "data": {
      "text/plain": [
       "array([ 0.26833333,  0.26733333,  0.261     , -0.002     , -0.00033333,\n",
       "        0.00066667,  0.00233333,  0.00066667,  0.00066667, -0.00233333])"
      ]
     },
     "execution_count": 64,
     "metadata": {},
     "output_type": "execute_result"
    }
   ],
   "source": [
    "imp_vals, _ = feature_importance_permutation(\n",
    "    predict_method=forest_mdl.predict, \n",
    "    X=X_test,\n",
    "    y=y_test,\n",
    "    metric='accuracy',\n",
    "    num_rounds=1,\n",
    "    seed=1)\n",
    "\n",
    "imp_vals"
   ]
  },
  {
   "cell_type": "code",
   "execution_count": 66,
   "id": "e7f5bec6",
   "metadata": {},
   "outputs": [
    {
     "data": {
      "image/png": "[encoded data removed]",
      "text/plain": [
       "<Figure size 432x288 with 1 Axes>"
      ]
     },
     "metadata": {
      "needs_background": "light"
     },
     "output_type": "display_data"
    }
   ],
   "source": [
    "indices = np.argsort(imp_vals)[::-1]\n",
    "plt.figure()\n",
    "plt.title(\"Random Forest feature importance via permutation importance\")\n",
    "plt.bar(range(X.shape[1]), imp_vals[indices])\n",
    "plt.xticks(range(X.shape[1]), indices)\n",
    "plt.xlim([-1, X.shape[1]])\n",
    "plt.ylim([0, 0.4])\n",
    "plt.show()"
   ]
  },
  {
   "cell_type": "markdown",
   "id": "7c7b28f4",
   "metadata": {},
   "source": [
    "Previously, it was mentioned that the permutation is repeated multiple times if num_rounds > 1. In this case, the second array returned by the feature_importance_permutation contains the importance values for these individual runs (the array has shape [num_features, num_rounds), which we can use to compute some sort of variability between these runs.\n",
    "\n"
   ]
  },
  {
   "cell_type": "code",
   "execution_count": 69,
   "id": "726cf4f3",
   "metadata": {},
   "outputs": [
    {
     "data": {
      "image/png": "[encoded data removed]",
      "text/plain": [
       "<Figure size 432x288 with 1 Axes>"
      ]
     },
     "metadata": {
      "needs_background": "light"
     },
     "output_type": "display_data"
    }
   ],
   "source": [
    "imp_vals, imp_all = feature_importance_permutation(\n",
    "    predict_method=forest_mdl.predict, \n",
    "    X=X_test,\n",
    "    y=y_test,\n",
    "    metric='accuracy',\n",
    "    num_rounds=10,\n",
    "    seed=1)\n",
    "\n",
    "\n",
    "std = np.std(imp_all, axis=1) #unlike above axis=1\n",
    "indices = np.argsort(imp_vals)[::-1]\n",
    "\n",
    "plt.figure()\n",
    "plt.title(\"Random Forest feature importance via permutation importance w. std. dev.\")\n",
    "plt.bar(range(X.shape[1]), imp_vals[indices],\n",
    "        yerr=std[indices])\n",
    "plt.xticks(range(X.shape[1]), indices)\n",
    "plt.xlim([-1, X.shape[1]])\n",
    "plt.ylim([0,0.4])\n",
    "plt.show()"
   ]
  },
  {
   "cell_type": "markdown",
   "id": "25faef43",
   "metadata": {},
   "source": [
    "### Example 2: feature importance regressors"
   ]
  },
  {
   "cell_type": "code",
   "execution_count": 70,
   "id": "afe7dcfd",
   "metadata": {},
   "outputs": [],
   "source": [
    "import numpy as np\n",
    "import matplotlib.pyplot as plt\n",
    "from mlxtend.evaluate import feature_importance_permutation\n",
    "from sklearn.model_selection import train_test_split\n",
    "from sklearn.datasets import make_regression\n",
    "from sklearn.svm import SVR\n",
    "\n",
    "\n",
    "X, y = make_regression(n_samples=1000,\n",
    "                       n_features=5,\n",
    "                       n_informative=2,\n",
    "                       n_targets=1,\n",
    "                       random_state=123,\n",
    "                       shuffle=False)"
   ]
  },
  {
   "cell_type": "code",
   "execution_count": 81,
   "id": "3372f066",
   "metadata": {
    "scrolled": true
   },
   "outputs": [
    {
     "name": "stdout",
     "output_type": "stream",
     "text": [
      "(1000, 5)\n"
     ]
    },
    {
     "data": {
      "text/plain": [
       "array([[-1.0856306 ,  0.99734545,  0.2829785 , -1.50629471, -0.57860025],\n",
       "       [ 1.65143654, -2.42667924, -0.42891263,  1.26593626, -0.8667404 ],\n",
       "       [-0.67888615, -0.09470897,  1.49138963, -0.638902  , -0.44398196],\n",
       "       [-0.43435128,  2.20593008,  2.18678609,  1.0040539 ,  0.3861864 ],\n",
       "       [ 0.73736858,  1.49073203, -0.93583387,  1.17582904, -1.25388067],\n",
       "       [-0.6377515 ,  0.9071052 , -1.4286807 , -0.14006872, -0.8617549 ]])"
      ]
     },
     "execution_count": 81,
     "metadata": {},
     "output_type": "execute_result"
    }
   ],
   "source": [
    "print(X.shape)\n",
    "X[:6,:100]"
   ]
  },
  {
   "cell_type": "code",
   "execution_count": 79,
   "id": "74ab64e9",
   "metadata": {},
   "outputs": [
    {
     "data": {
      "text/plain": [
       "array([  -8.05137143,  -57.51434696,   89.4139685 ,  139.75225425,\n",
       "          1.43708679, -175.50966365,  -13.20283679, -158.17859798,\n",
       "        132.30871463])"
      ]
     },
     "execution_count": 79,
     "metadata": {},
     "output_type": "execute_result"
    }
   ],
   "source": [
    "y[1:10]"
   ]
  },
  {
   "cell_type": "code",
   "execution_count": 82,
   "id": "ca9045c3",
   "metadata": {},
   "outputs": [
    {
     "data": {
      "text/plain": [
       "array([ 0.43309137,  0.22058866,  0.00148447,  0.01613953, -0.00529505])"
      ]
     },
     "execution_count": 82,
     "metadata": {},
     "output_type": "execute_result"
    }
   ],
   "source": [
    "X_train, X_test, y_train, y_test = train_test_split(\n",
    "    X, y, test_size=0.3, random_state=123)    \n",
    "\n",
    "svm = SVR(kernel='rbf')\n",
    "svm.fit(X_train, y_train)\n",
    "\n",
    "imp_vals, _ = feature_importance_permutation(\n",
    "    predict_method=svm.predict, \n",
    "    X=X_test,\n",
    "    y=y_test,\n",
    "    metric='r2',\n",
    "    num_rounds=1,\n",
    "    seed=1)\n",
    "\n",
    "imp_vals"
   ]
  },
  {
   "cell_type": "code",
   "execution_count": 83,
   "id": "61eab554",
   "metadata": {},
   "outputs": [
    {
     "data": {
      "image/png": "[encoded data removed]",
      "text/plain": [
       "<Figure size 432x288 with 1 Axes>"
      ]
     },
     "metadata": {
      "needs_background": "light"
     },
     "output_type": "display_data"
    }
   ],
   "source": [
    "plt.figure()\n",
    "plt.bar(range(X.shape[1]), imp_vals)\n",
    "plt.xticks(range(X.shape[1]))\n",
    "plt.xlim([-1, X.shape[1]])\n",
    "plt.ylim([0, 0.5])\n",
    "plt.show()"
   ]
  },
  {
   "cell_type": "markdown",
   "id": "fb92834a",
   "metadata": {},
   "source": [
    "### Example 3: Feature importance with one-hot-encoded features"
   ]
  },
  {
   "cell_type": "code",
   "execution_count": null,
   "id": "788137b8",
   "metadata": {},
   "outputs": [],
   "source": []
  }
 ],
 "metadata": {
  "kernelspec": {
   "display_name": "Python 3 (ipykernel)",
   "language": "python",
   "name": "python3"
  },
  "language_info": {
   "codemirror_mode": {
    "name": "ipython",
    "version": 3
   },
   "file_extension": ".py",
   "mimetype": "text/x-python",
   "name": "python",
   "nbconvert_exporter": "python",
   "pygments_lexer": "ipython3",
   "version": "3.10.4"
  }
 },
 "nbformat": 4,
 "nbformat_minor": 5
}
